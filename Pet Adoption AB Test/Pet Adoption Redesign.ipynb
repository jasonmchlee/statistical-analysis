{
 "cells": [
  {
   "cell_type": "markdown",
   "metadata": {},
   "source": [
    "# Overview\n",
    "\n",
    "Currently the website has a static image of a cat on the home page. The cat is not smiling and looks rather sad. Next to the photo there is a CTA button saying \"Adopt today\" which would direct the user to a adoption application form.\n",
    "\n",
    "Our goal is to design a AB test to so we can understand if changing a photo on the landing page will increase conversions in users clicking the button. The scenario is we are analyzing the conversions for a pet adoption site.\n",
    "\n",
    "For this experiment we will simply change the original cat photo, into a photo where the cat is smiling. Our hypothesis is \n",
    "\"Changing the cat from a sad to happy photo will result in more people clicking on the \"Adopt today\" button\".\n",
    "\n",
    "## Exploring Current Conversions\n",
    "First we will explore the current conversions on the site to get baseline conversion rates for our analysis."
   ]
  },
  {
   "cell_type": "code",
   "execution_count": 1,
   "metadata": {},
   "outputs": [],
   "source": [
    "import pandas as pd\n",
    "import numpy as np\n",
    "import matplotlib.pyplot as plt\n",
    "import datetime"
   ]
  },
  {
   "cell_type": "code",
   "execution_count": 2,
   "metadata": {},
   "outputs": [
    {
     "data": {
      "text/html": [
       "<div>\n",
       "<style scoped>\n",
       "    .dataframe tbody tr th:only-of-type {\n",
       "        vertical-align: middle;\n",
       "    }\n",
       "\n",
       "    .dataframe tbody tr th {\n",
       "        vertical-align: top;\n",
       "    }\n",
       "\n",
       "    .dataframe thead th {\n",
       "        text-align: right;\n",
       "    }\n",
       "</style>\n",
       "<table border=\"1\" class=\"dataframe\">\n",
       "  <thead>\n",
       "    <tr style=\"text-align: right;\">\n",
       "      <th></th>\n",
       "      <th>visit_date</th>\n",
       "      <th>clicked_adopt_today</th>\n",
       "    </tr>\n",
       "  </thead>\n",
       "  <tbody>\n",
       "    <tr>\n",
       "      <td>0</td>\n",
       "      <td>2017-01-01</td>\n",
       "      <td>1</td>\n",
       "    </tr>\n",
       "    <tr>\n",
       "      <td>1</td>\n",
       "      <td>2017-01-02</td>\n",
       "      <td>1</td>\n",
       "    </tr>\n",
       "    <tr>\n",
       "      <td>2</td>\n",
       "      <td>2017-01-03</td>\n",
       "      <td>0</td>\n",
       "    </tr>\n",
       "    <tr>\n",
       "      <td>3</td>\n",
       "      <td>2017-01-04</td>\n",
       "      <td>1</td>\n",
       "    </tr>\n",
       "    <tr>\n",
       "      <td>4</td>\n",
       "      <td>2017-01-05</td>\n",
       "      <td>1</td>\n",
       "    </tr>\n",
       "  </tbody>\n",
       "</table>\n",
       "</div>"
      ],
      "text/plain": [
       "   visit_date  clicked_adopt_today\n",
       "0  2017-01-01                    1\n",
       "1  2017-01-02                    1\n",
       "2  2017-01-03                    0\n",
       "3  2017-01-04                    1\n",
       "4  2017-01-05                    1"
      ]
     },
     "execution_count": 2,
     "metadata": {},
     "output_type": "execute_result"
    }
   ],
   "source": [
    "# read in click data\n",
    "click_data = pd.read_csv(\"click_data.csv\")\n",
    "click_data.head()"
   ]
  },
  {
   "cell_type": "markdown",
   "metadata": {},
   "source": [
    "Now that we know the type of data we have we can look at the date range."
   ]
  },
  {
   "cell_type": "code",
   "execution_count": 3,
   "metadata": {},
   "outputs": [
    {
     "data": {
      "text/plain": [
       "'2017-01-01'"
      ]
     },
     "execution_count": 3,
     "metadata": {},
     "output_type": "execute_result"
    }
   ],
   "source": [
    "#earliest date\n",
    "click_data['visit_date'].min()"
   ]
  },
  {
   "cell_type": "code",
   "execution_count": 4,
   "metadata": {},
   "outputs": [
    {
     "data": {
      "text/plain": [
       "'2017-12-31'"
      ]
     },
     "execution_count": 4,
     "metadata": {},
     "output_type": "execute_result"
    }
   ],
   "source": [
    "#earliest date\n",
    "click_data['visit_date'].max()"
   ]
  },
  {
   "cell_type": "markdown",
   "metadata": {},
   "source": [
    "We can see that the minimum visit date is January 1 2017, and latest visit date is December 31, 2017. So we have values for the entire year.\n",
    "\n",
    "### Baseline Conversions\n",
    "\n",
    "Get the current conversion rate so we know what compare. We need to decide what timeseries we want group our conversions.\n"
   ]
  },
  {
   "cell_type": "code",
   "execution_count": 5,
   "metadata": {},
   "outputs": [],
   "source": [
    "# convert string to date\n",
    "click_data['visit_date'] = pd.to_datetime(click_data['visit_date'])"
   ]
  },
  {
   "cell_type": "code",
   "execution_count": 6,
   "metadata": {},
   "outputs": [
    {
     "name": "stdout",
     "output_type": "stream",
     "text": [
      "<class 'pandas.core.frame.DataFrame'>\n",
      "RangeIndex: 3650 entries, 0 to 3649\n",
      "Data columns (total 2 columns):\n",
      "visit_date             3650 non-null datetime64[ns]\n",
      "clicked_adopt_today    3650 non-null int64\n",
      "dtypes: datetime64[ns](1), int64(1)\n",
      "memory usage: 57.2 KB\n"
     ]
    }
   ],
   "source": [
    "# check if we got it\n",
    "click_data.info()"
   ]
  },
  {
   "cell_type": "code",
   "execution_count": 7,
   "metadata": {},
   "outputs": [
    {
     "data": {
      "text/plain": [
       "0.2772602739726027"
      ]
     },
     "execution_count": 7,
     "metadata": {},
     "output_type": "execute_result"
    }
   ],
   "source": [
    "# annual average conversion\n",
    "click_data['clicked_adopt_today'].mean()"
   ]
  },
  {
   "cell_type": "markdown",
   "metadata": {},
   "source": [
    "We see that the average baseline conversion rate through out the year is 28%. We can explore this further by looking into more granular conversion rates.\n",
    "\n",
    "### Weekday"
   ]
  },
  {
   "cell_type": "code",
   "execution_count": 8,
   "metadata": {},
   "outputs": [],
   "source": [
    "# get weekday\n",
    "click_data['weekday'] = click_data['visit_date'].dt.weekday"
   ]
  },
  {
   "cell_type": "code",
   "execution_count": 9,
   "metadata": {},
   "outputs": [
    {
     "data": {
      "text/plain": [
       "weekday\n",
       "0    0.276923\n",
       "1    0.271154\n",
       "2    0.298077\n",
       "3    0.271154\n",
       "4    0.267308\n",
       "5    0.255769\n",
       "6    0.300000\n",
       "Name: clicked_adopt_today, dtype: float64"
      ]
     },
     "execution_count": 9,
     "metadata": {},
     "output_type": "execute_result"
    }
   ],
   "source": [
    "# find the conversion rates by weekday\n",
    "click_data.groupby(['weekday'])['clicked_adopt_today'].agg('mean')"
   ]
  },
  {
   "cell_type": "markdown",
   "metadata": {},
   "source": [
    "The weekday 6 is Sunday and has the highest conversion rate at 30%, with Saturday having the lowest at 25.5%."
   ]
  },
  {
   "cell_type": "code",
   "execution_count": 10,
   "metadata": {},
   "outputs": [
    {
     "data": {
      "text/plain": [
       "<matplotlib.axes._subplots.AxesSubplot at 0x1230a4e90>"
      ]
     },
     "execution_count": 10,
     "metadata": {},
     "output_type": "execute_result"
    },
    {
     "data": {
      "image/png": "[encoded data removed]",
      "text/plain": [
       "<Figure size 432x288 with 1 Axes>"
      ]
     },
     "metadata": {
      "needs_background": "light"
     },
     "output_type": "display_data"
    }
   ],
   "source": [
    "# week\n",
    "click_data.groupby([click_data['visit_date'].dt.month])['clicked_adopt_today'].agg('mean').plot()"
   ]
  },
  {
   "cell_type": "code",
   "execution_count": 11,
   "metadata": {},
   "outputs": [],
   "source": [
    "monthly_conversions = click_data.groupby([click_data['visit_date'].dt.month])['clicked_adopt_today'].agg('mean')"
   ]
  },
  {
   "cell_type": "markdown",
   "metadata": {},
   "source": [
    "Looking at the monthly conversion there is a clear spike around June going into August, then a steep decline in September. This could tell us that people are clicking on the button more in the summer."
   ]
  },
  {
   "cell_type": "code",
   "execution_count": 12,
   "metadata": {},
   "outputs": [],
   "source": [
    "# # get weekday\n",
    "# click_data['week'] = click_data['visit_date'].dt.week"
   ]
  },
  {
   "cell_type": "code",
   "execution_count": 13,
   "metadata": {},
   "outputs": [
    {
     "data": {
      "text/plain": [
       "<matplotlib.axes._subplots.AxesSubplot at 0x123ab2d50>"
      ]
     },
     "execution_count": 13,
     "metadata": {},
     "output_type": "execute_result"
    },
    {
     "data": {
      "image/png": "[encoded data removed]",
      "text/plain": [
       "<Figure size 432x288 with 1 Axes>"
      ]
     },
     "metadata": {
      "needs_background": "light"
     },
     "output_type": "display_data"
    }
   ],
   "source": [
    "# week\n",
    "click_data.groupby([click_data['visit_date'].dt.week])['clicked_adopt_today'].agg('mean').plot()"
   ]
  },
  {
   "cell_type": "code",
   "execution_count": 14,
   "metadata": {},
   "outputs": [],
   "source": [
    "weekly_conversions = click_data.groupby([click_data['visit_date'].dt.week])['clicked_adopt_today'].agg('mean')"
   ]
  },
  {
   "cell_type": "markdown",
   "metadata": {},
   "source": [
    "Going into more detail we can see the changes in the weeks throughout the year.\n",
    "\n",
    "## Building the Experiment\n",
    "\n",
    "When we look to create our control and test group we want to make sure we are accounting for factors such as seasonality. We see in our data that the summer would be when most conversion occurred.\n",
    "\n",
    "We want to run the test and control simultaneously. Depending on we choose to run the AB test we will have different baseline conversions.\n",
    "\n",
    "For example the conversions would be as follows if we were running it in:\n",
    "\n",
    "    January - 20%\n",
    "    July    - 33%\n",
    "    August  - 54%\n",
    "    October - 16%\n",
    "\n",
    "As we can see there is a lot of fluctuations in our current conversions so we will want to take into account - POWER ANALYSIS.\n",
    "\n",
    "## Power\n",
    "How long do we run the experiment? \n",
    "\n",
    "    - Too short and we don't get enough insights\n",
    "    - Too long and we may be wasting resources\n",
    "    \n",
    "Power Analysis will tell you how many data points or sample size do we need to know to ensure the effect is real. Once we have the sample size you can figure how long we need to run the experiment to get the required data points.\n",
    "\n",
    "For Power Analysis we should know:\n",
    "\n",
    "1. statistical test - statistical test we plan to run\n",
    "2. baseline value - value for the current control condition\n",
    "3. desired value - expected value for the test condition\n",
    "4. proportion of the data from the test condition (ideally 0.5)\n",
    "5. significance threshold / alpha = level where effect significant (generally 0.05)\n",
    "6. power / 1 -beta = probability correctly rejecting null hypothesis (generally 0.8)"
   ]
  },
  {
   "cell_type": "code",
   "execution_count": 15,
   "metadata": {
    "code_folding": [
     0
    ]
   },
   "outputs": [],
   "source": [
    "# function to obtain the power\n",
    "from scipy import stats\n",
    "\n",
    "def get_power(n, p1, p2, cl):\n",
    "    alpha = 1 - cl\n",
    "    qu = stats.norm.ppf(1 - alpha/2)\n",
    "    diff = abs(p2-p1)\n",
    "    bp = (p1+p2) / 2\n",
    "    \n",
    "    v1 = p1 * (1-p1)\n",
    "    v2 = p2 * (1-p2)\n",
    "    bv = bp * (1-bp)\n",
    "    \n",
    "    power_part_one = stats.norm.cdf((n**0.5 * diff - qu * (2 * bv)**0.5) / (v1+v2) ** 0.5)\n",
    "    power_part_two = 1 - stats.norm.cdf((n**0.5 * diff + qu * (2 * bv)**0.5) / (v1+v2) ** 0.5)\n",
    "    \n",
    "    power = power_part_one + power_part_two\n",
    "    \n",
    "    return (power)"
   ]
  },
  {
   "cell_type": "code",
   "execution_count": 16,
   "metadata": {},
   "outputs": [],
   "source": [
    "#get sample size\n",
    "def get_sample_size(power, p1, p2, cl, max_n=1000000):\n",
    "    n = 1 \n",
    "    while n <= max_n:\n",
    "        tmp_power = get_power(n, p1, p2, cl)\n",
    "\n",
    "        if tmp_power >= power: \n",
    "            return n \n",
    "        else: \n",
    "            n = n + 100\n",
    "\n",
    "    return \"Increase Max N Value\""
   ]
  },
  {
   "cell_type": "markdown",
   "metadata": {},
   "source": [
    "## Which conversion rate to use?\n",
    "Let's explore what the sample size would be if we choose the month with the highest conversion - August at 54%. \n",
    "\n",
    "### 10% conversion lift\n",
    "Assuming we want a 10% lift in conversion we can use the formula below."
   ]
  },
  {
   "cell_type": "code",
   "execution_count": 17,
   "metadata": {},
   "outputs": [
    {
     "data": {
      "text/plain": [
       "401"
      ]
     },
     "execution_count": 17,
     "metadata": {},
     "output_type": "execute_result"
    }
   ],
   "source": [
    "# power - 0.8 standard\n",
    "# p1 - original conversion 0.54\n",
    "# p2 - expected conversion 0.54 + 10%\n",
    "# cl - confidence level with alpha 0.05 - cl = 0.95\n",
    "get_sample_size(0.8, 0.54, 0.64, 0.95)"
   ]
  },
  {
   "cell_type": "markdown",
   "metadata": {},
   "source": [
    "We now know if we ran the experiment in August we would need at least 401 data points or ~200 per group."
   ]
  },
  {
   "cell_type": "markdown",
   "metadata": {},
   "source": [
    "If we only expect a 5 percentage point conversion rate increase we need 1601 (about 800 per group) to see a significant effect, much more than if we predicted a 10 percentage point increase.\n",
    "\n",
    "Now that we have the sample size we can run the experiment.\n",
    "\n",
    "# Analyzing Results\n",
    "We have run the test and obtained the results from our control and test group. We have the information in a new CSV and we can explore the results below. We decided"
   ]
  },
  {
   "cell_type": "code",
   "execution_count": 18,
   "metadata": {},
   "outputs": [],
   "source": [
    "experiment_data = pd.read_csv(\"experiment_data.csv\")"
   ]
  },
  {
   "cell_type": "code",
   "execution_count": 19,
   "metadata": {},
   "outputs": [
    {
     "data": {
      "text/plain": [
       "(588, 3)"
      ]
     },
     "execution_count": 19,
     "metadata": {},
     "output_type": "execute_result"
    }
   ],
   "source": [
    "# size of the results\n",
    "experiment_data.shape"
   ]
  },
  {
   "cell_type": "code",
   "execution_count": 20,
   "metadata": {},
   "outputs": [],
   "source": [
    "# convert string to date\n",
    "experiment_data['visit_date'] = pd.to_datetime(experiment_data['visit_date'])"
   ]
  },
  {
   "cell_type": "code",
   "execution_count": 21,
   "metadata": {},
   "outputs": [
    {
     "name": "stdout",
     "output_type": "stream",
     "text": [
      "<class 'pandas.core.frame.DataFrame'>\n",
      "RangeIndex: 588 entries, 0 to 587\n",
      "Data columns (total 3 columns):\n",
      "visit_date        588 non-null datetime64[ns]\n",
      "condition         588 non-null object\n",
      "clicked_button    588 non-null int64\n",
      "dtypes: datetime64[ns](1), int64(1), object(1)\n",
      "memory usage: 13.9+ KB\n"
     ]
    }
   ],
   "source": [
    "#check converting to datetime\n",
    "experiment_data.info()"
   ]
  },
  {
   "cell_type": "code",
   "execution_count": 22,
   "metadata": {},
   "outputs": [],
   "source": [
    "# conversions of control group grouped by day\n",
    "control_conversions = pd.DataFrame(experiment_data[\n",
    "                                experiment_data['condition']=='control'].groupby(\n",
    "                                ['visit_date'])['clicked_button'].agg('mean')).reset_index()\n",
    "\n",
    "# rename the columns\n",
    "control_conversions.columns = ['date', 'conversions']"
   ]
  },
  {
   "cell_type": "code",
   "execution_count": 23,
   "metadata": {},
   "outputs": [],
   "source": [
    "# conversions of test group grouped by day\n",
    "test_conversions = pd.DataFrame(experiment_data[\n",
    "                                experiment_data['condition']=='test'].groupby(\n",
    "                                ['visit_date'])['clicked_button'].agg('mean')).reset_index()\n",
    "\n",
    "# rename the columns\n",
    "test_conversions.columns = ['date','conversions']"
   ]
  },
  {
   "cell_type": "code",
   "execution_count": 24,
   "metadata": {
    "scrolled": false
   },
   "outputs": [
    {
     "data": {
      "image/png": "[encoded data removed]",
      "text/plain": [
       "<Figure size 1080x504 with 1 Axes>"
      ]
     },
     "metadata": {
      "needs_background": "light"
     },
     "output_type": "display_data"
    }
   ],
   "source": [
    "# plot the two lines in the same graph\n",
    "\n",
    "plt.figure(figsize = (15,7))\n",
    "\n",
    "# first plot for control\n",
    "plt.plot('date', 'conversions', data = control_conversions, color = 'blue', label = 'control')\n",
    "plt.plot('date', 'conversions', data = test_conversions, color = 'orange', label = 'test')\n",
    "plt.xticks(rotation = 45, fontsize=12)\n",
    "plt.yticks(fontsize=12)\n",
    "plt.legend(loc=\"upper left\")\n",
    "plt.tight_layout()\n",
    "plt.show()\n"
   ]
  },
  {
   "cell_type": "markdown",
   "metadata": {},
   "source": [
    "Looking at the results we can see that the test group performed better than the control group consistently over the entire month expect for a big drop around January 22 - 23.\n",
    "\n",
    "## Logistic Regression\n",
    "Let's continue the analysis by building a model to interpret the performance."
   ]
  },
  {
   "cell_type": "code",
   "execution_count": 25,
   "metadata": {},
   "outputs": [
    {
     "data": {
      "text/plain": [
       "condition\n",
       "control    0.166667\n",
       "test       0.384354\n",
       "Name: clicked_button, dtype: float64"
      ]
     },
     "execution_count": 25,
     "metadata": {},
     "output_type": "execute_result"
    }
   ],
   "source": [
    "experiment_data.groupby(['condition'])['clicked_button'].agg('mean')"
   ]
  },
  {
   "cell_type": "markdown",
   "metadata": {},
   "source": [
    "We can see a clear difference in conversion rates. The control group had a rate of ~17%, while the test group had ~38%."
   ]
  },
  {
   "cell_type": "code",
   "execution_count": 26,
   "metadata": {},
   "outputs": [
    {
     "name": "stdout",
     "output_type": "stream",
     "text": [
      "Optimization terminated successfully.\n",
      "         Current function value: 0.558358\n",
      "         Iterations 5\n"
     ]
    },
    {
     "data": {
      "text/html": [
       "<table class=\"simpletable\">\n",
       "<caption>Logit Regression Results</caption>\n",
       "<tr>\n",
       "  <th>Dep. Variable:</th>    <td>clicked_button</td>  <th>  No. Observations:  </th>  <td>   588</td>  \n",
       "</tr>\n",
       "<tr>\n",
       "  <th>Model:</th>                 <td>Logit</td>      <th>  Df Residuals:      </th>  <td>   586</td>  \n",
       "</tr>\n",
       "<tr>\n",
       "  <th>Method:</th>                 <td>MLE</td>       <th>  Df Model:          </th>  <td>     1</td>  \n",
       "</tr>\n",
       "<tr>\n",
       "  <th>Date:</th>            <td>Sun, 17 May 2020</td> <th>  Pseudo R-squ.:     </th>  <td>0.05148</td> \n",
       "</tr>\n",
       "<tr>\n",
       "  <th>Time:</th>                <td>18:24:38</td>     <th>  Log-Likelihood:    </th> <td> -328.31</td> \n",
       "</tr>\n",
       "<tr>\n",
       "  <th>converged:</th>             <td>True</td>       <th>  LL-Null:           </th> <td> -346.13</td> \n",
       "</tr>\n",
       "<tr>\n",
       "  <th>Covariance Type:</th>     <td>nonrobust</td>    <th>  LLR p-value:       </th> <td>2.376e-09</td>\n",
       "</tr>\n",
       "</table>\n",
       "<table class=\"simpletable\">\n",
       "<tr>\n",
       "          <td></td>             <th>coef</th>     <th>std err</th>      <th>z</th>      <th>P>|z|</th>  <th>[0.025</th>    <th>0.975]</th>  \n",
       "</tr>\n",
       "<tr>\n",
       "  <th>Intercept</th>         <td>   -1.6094</td> <td>    0.156</td> <td>  -10.284</td> <td> 0.000</td> <td>   -1.916</td> <td>   -1.303</td>\n",
       "</tr>\n",
       "<tr>\n",
       "  <th>condition[T.test]</th> <td>    1.1383</td> <td>    0.197</td> <td>    5.774</td> <td> 0.000</td> <td>    0.752</td> <td>    1.525</td>\n",
       "</tr>\n",
       "</table>"
      ],
      "text/plain": [
       "<class 'statsmodels.iolib.summary.Summary'>\n",
       "\"\"\"\n",
       "                           Logit Regression Results                           \n",
       "==============================================================================\n",
       "Dep. Variable:         clicked_button   No. Observations:                  588\n",
       "Model:                          Logit   Df Residuals:                      586\n",
       "Method:                           MLE   Df Model:                            1\n",
       "Date:                Sun, 17 May 2020   Pseudo R-squ.:                 0.05148\n",
       "Time:                        18:24:38   Log-Likelihood:                -328.31\n",
       "converged:                       True   LL-Null:                       -346.13\n",
       "Covariance Type:            nonrobust   LLR p-value:                 2.376e-09\n",
       "=====================================================================================\n",
       "                        coef    std err          z      P>|z|      [0.025      0.975]\n",
       "-------------------------------------------------------------------------------------\n",
       "Intercept            -1.6094      0.156    -10.284      0.000      -1.916      -1.303\n",
       "condition[T.test]     1.1383      0.197      5.774      0.000       0.752       1.525\n",
       "=====================================================================================\n",
       "\"\"\""
      ]
     },
     "execution_count": 26,
     "metadata": {},
     "output_type": "execute_result"
    }
   ],
   "source": [
    "import statsmodels.formula.api as smf\n",
    "\n",
    "# instantiating a logistic regression model object\n",
    "logistic_full = smf.logit(formula = \"\"\" clicked_button ~ condition\n",
    "                                        \"\"\",\n",
    "                                        data    = experiment_data)\n",
    "\n",
    "# fitting the model object\n",
    "results_full = logistic_full.fit()\n",
    "\n",
    "\n",
    "# checking the results SUMMARY\n",
    "results_full.summary()"
   ]
  },
  {
   "cell_type": "markdown",
   "metadata": {},
   "source": [
    "# Results\n",
    "Looking at our results we can see the p-value is less than 0.05 our alpha so the results are still significant.\n",
    "\n",
    "We can conclude that the new design on the landing page increased conversions, and we can roll it out to a larger population of our customers. For this we can determine that customers were accepting of the smiling cat photo and therefore went onto the next stage of clicking the button.\n",
    "\n",
    "# Follow-Up Experiment\n",
    "\n",
    "This is a continued project from our Pet adoption experiment.  In this experiment we will follow up with the new design we implemented and see if we can build on the image that was used - a cat smiling. \n",
    "\n",
    "Now, we want to see if an experiment that changes the smiling cat into a smiling kitten will improve conversion again.\n",
    "\n",
    "Our hypothesis is \"Changing the cat to a kitten will convert more users click on the \"Adopt today\" button\".\n",
    "\n",
    "From our previous experiment we saw that the increase in conversion was now ~38%. Going of intuition I believe that changing the photo from cat to kitten will have a significantly higher conversion. With that assumption I think the conversion rate will increase by 20% to 58%."
   ]
  },
  {
   "cell_type": "code",
   "execution_count": 27,
   "metadata": {},
   "outputs": [
    {
     "data": {
      "text/plain": [
       "101"
      ]
     },
     "execution_count": 27,
     "metadata": {},
     "output_type": "execute_result"
    }
   ],
   "source": [
    "# let's get the sample size\n",
    "get_sample_size(0.8, 0.38,x0.59, 0.95)"
   ]
  },
  {
   "cell_type": "markdown",
   "metadata": {},
   "source": [
    "Turns out we only need 101 data points in total (~51 per group) since our expected effect is so large."
   ]
  },
  {
   "cell_type": "code",
   "execution_count": 28,
   "metadata": {},
   "outputs": [],
   "source": [
    "# read in our follow up results\n",
    "experiment_data_2 = pd.read_csv(\"experiment_data_2.csv\")"
   ]
  },
  {
   "cell_type": "code",
   "execution_count": 29,
   "metadata": {},
   "outputs": [],
   "source": [
    "# convert to datetime\n",
    "experiment_data_2['visit_date'] = pd.to_datetime(experiment_data_2['visit_date'])"
   ]
  },
  {
   "cell_type": "code",
   "execution_count": 30,
   "metadata": {},
   "outputs": [
    {
     "data": {
      "text/plain": [
       "condition\n",
       "cat       0.705882\n",
       "kitten    0.793103\n",
       "Name: clicked_button, dtype: float64"
      ]
     },
     "execution_count": 30,
     "metadata": {},
     "output_type": "execute_result"
    }
   ],
   "source": [
    "# explore converisons by group\n",
    "experiment_data_2.groupby(['condition'])['clicked_button'].agg('mean')"
   ]
  },
  {
   "cell_type": "markdown",
   "metadata": {},
   "source": [
    "We can see that both pictures had a big jump in conversions, but the Kitten performed better by 9%. We want to make sure the results are significant so we can build our model to interpret the results.\n",
    "\n",
    "## Logistic Regression\n",
    "Let us continue our analysis and look for significance."
   ]
  },
  {
   "cell_type": "code",
   "execution_count": 31,
   "metadata": {},
   "outputs": [
    {
     "name": "stdout",
     "output_type": "stream",
     "text": [
      "Optimization terminated successfully.\n",
      "         Current function value: 0.554725\n",
      "         Iterations 5\n"
     ]
    },
    {
     "data": {
      "text/html": [
       "<table class=\"simpletable\">\n",
       "<caption>Logit Regression Results</caption>\n",
       "<tr>\n",
       "  <th>Dep. Variable:</th>    <td>clicked_button</td>  <th>  No. Observations:  </th>  <td>   109</td> \n",
       "</tr>\n",
       "<tr>\n",
       "  <th>Model:</th>                 <td>Logit</td>      <th>  Df Residuals:      </th>  <td>   107</td> \n",
       "</tr>\n",
       "<tr>\n",
       "  <th>Method:</th>                 <td>MLE</td>       <th>  Df Model:          </th>  <td>     1</td> \n",
       "</tr>\n",
       "<tr>\n",
       "  <th>Date:</th>            <td>Sun, 17 May 2020</td> <th>  Pseudo R-squ.:     </th> <td>0.009069</td>\n",
       "</tr>\n",
       "<tr>\n",
       "  <th>Time:</th>                <td>18:24:38</td>     <th>  Log-Likelihood:    </th> <td> -60.465</td>\n",
       "</tr>\n",
       "<tr>\n",
       "  <th>converged:</th>             <td>True</td>       <th>  LL-Null:           </th> <td> -61.018</td>\n",
       "</tr>\n",
       "<tr>\n",
       "  <th>Covariance Type:</th>     <td>nonrobust</td>    <th>  LLR p-value:       </th>  <td>0.2928</td> \n",
       "</tr>\n",
       "</table>\n",
       "<table class=\"simpletable\">\n",
       "<tr>\n",
       "           <td></td>              <th>coef</th>     <th>std err</th>      <th>z</th>      <th>P>|z|</th>  <th>[0.025</th>    <th>0.975]</th>  \n",
       "</tr>\n",
       "<tr>\n",
       "  <th>Intercept</th>           <td>    0.8755</td> <td>    0.307</td> <td>    2.849</td> <td> 0.004</td> <td>    0.273</td> <td>    1.478</td>\n",
       "</tr>\n",
       "<tr>\n",
       "  <th>condition[T.kitten]</th> <td>    0.4683</td> <td>    0.447</td> <td>    1.048</td> <td> 0.294</td> <td>   -0.407</td> <td>    1.344</td>\n",
       "</tr>\n",
       "</table>"
      ],
      "text/plain": [
       "<class 'statsmodels.iolib.summary.Summary'>\n",
       "\"\"\"\n",
       "                           Logit Regression Results                           \n",
       "==============================================================================\n",
       "Dep. Variable:         clicked_button   No. Observations:                  109\n",
       "Model:                          Logit   Df Residuals:                      107\n",
       "Method:                           MLE   Df Model:                            1\n",
       "Date:                Sun, 17 May 2020   Pseudo R-squ.:                0.009069\n",
       "Time:                        18:24:38   Log-Likelihood:                -60.465\n",
       "converged:                       True   LL-Null:                       -61.018\n",
       "Covariance Type:            nonrobust   LLR p-value:                    0.2928\n",
       "=======================================================================================\n",
       "                          coef    std err          z      P>|z|      [0.025      0.975]\n",
       "---------------------------------------------------------------------------------------\n",
       "Intercept               0.8755      0.307      2.849      0.004       0.273       1.478\n",
       "condition[T.kitten]     0.4683      0.447      1.048      0.294      -0.407       1.344\n",
       "=======================================================================================\n",
       "\"\"\""
      ]
     },
     "execution_count": 31,
     "metadata": {},
     "output_type": "execute_result"
    }
   ],
   "source": [
    "#import statsmodels.formula.api as smf\n",
    "\n",
    "# instantiating a logistic regression model object\n",
    "logistic_full = smf.logit(formula = \"\"\" clicked_button ~ condition\n",
    "                                        \"\"\",\n",
    "                                        data    = experiment_data_2)\n",
    "\n",
    "# fitting the model object\n",
    "results_full = logistic_full.fit()\n",
    "\n",
    "\n",
    "# checking the results SUMMARY\n",
    "results_full.summary()"
   ]
  },
  {
   "cell_type": "markdown",
   "metadata": {},
   "source": [
    "## Results\n",
    "We can see the follow-up experiment didn't work (our p-value was about 0.29, which is not less than 0.05). This could be because kittens aren't actually that desirable, or because we went in with bad assumptions. We found our conversion results in our first experiment in January, but ran our second experiment in August, when conversion rates were already high. We have to remember to always consider what 'control' really means when building the follow-up experiments.\n",
    "\n",
    "# Continued Experiment\n",
    "\n",
    "## Plot 8 months data\n",
    "Before starting the next experiment, let's take a second to look at the data so far from our original two conditions. Even though the happy cat did better initially, we decided to keep running both versions so you could see how results compared over more time."
   ]
  },
  {
   "cell_type": "code",
   "execution_count": 32,
   "metadata": {},
   "outputs": [],
   "source": [
    "# read in 8 month results\n",
    "eight_month = pd.read_csv(\"eight_month_check_in.csv\")"
   ]
  },
  {
   "cell_type": "code",
   "execution_count": 33,
   "metadata": {},
   "outputs": [],
   "source": [
    "eight_month['visit_date'] = pd.to_datetime(eight_month['visit_date'])"
   ]
  },
  {
   "cell_type": "code",
   "execution_count": 34,
   "metadata": {},
   "outputs": [
    {
     "data": {
      "text/plain": [
       "condition\n",
       "happy_cat    0.503722\n",
       "sad_cat      0.323833\n",
       "Name: clicked_button, dtype: float64"
      ]
     },
     "execution_count": 34,
     "metadata": {},
     "output_type": "execute_result"
    }
   ],
   "source": [
    "eight_month.groupby(['condition'])['clicked_button'].agg('mean')"
   ]
  },
  {
   "cell_type": "markdown",
   "metadata": {},
   "source": [
    "We can see over the 8 months on average the happy cat had a better conversion of 50%."
   ]
  },
  {
   "cell_type": "code",
   "execution_count": 35,
   "metadata": {},
   "outputs": [],
   "source": [
    "# dataframe for happy cats and their conversion rates by grouped by day\n",
    "happy_conversions = eight_month[eight_month['condition'] == 'happy_cat'].groupby(\n",
    "                            [eight_month['visit_date'].dt.month])['clicked_button'].agg('mean').reset_index()\n",
    "\n",
    "# dataframe for sad cats and their conversion rates by grouped by day\n",
    "sad_conversions = eight_month[eight_month['condition'] == 'sad_cat'].groupby(\n",
    "                            [eight_month['visit_date'].dt.month])['clicked_button'].agg('mean').reset_index()"
   ]
  },
  {
   "cell_type": "code",
   "execution_count": 36,
   "metadata": {},
   "outputs": [
    {
     "data": {
      "image/png": "[encoded data removed]",
      "text/plain": [
       "<Figure size 1080x504 with 1 Axes>"
      ]
     },
     "metadata": {
      "needs_background": "light"
     },
     "output_type": "display_data"
    }
   ],
   "source": [
    "# plt the graphs\n",
    "\n",
    "plt.figure(figsize=(15,7))\n",
    "\n",
    "plt.plot('visit_date', 'clicked_button', data = happy_conversions, label = 'happy', color = 'orange', marker = 'o')\n",
    "plt.plot('visit_date', 'clicked_button', data = sad_conversions, label = 'sad', color = 'blue',  marker = 'o')\n",
    "plt.xticks(size = 12)\n",
    "plt.xlabel('Month', size = 15)\n",
    "plt.ylabel('Conversion Rate', size = 15)\n",
    "plt.ylim(0,1)\n",
    "plt.tight_layout()\n",
    "plt.legend(loc = 'upper left')\n",
    "plt.show()"
   ]
  },
  {
   "cell_type": "markdown",
   "metadata": {},
   "source": [
    "We can see there is a clear gap, with the happy cat performing better in conversions over the last 8 months. There is a slight dip from March to June, but relatively in the conversion range of ~47% to ~53%. Whereas it looks like the sad cat didn't break past the ~35% conversion mark.\n",
    "\n",
    "## Difference in Months"
   ]
  },
  {
   "cell_type": "code",
   "execution_count": 49,
   "metadata": {},
   "outputs": [
    {
     "data": {
      "text/html": [
       "<div>\n",
       "<style scoped>\n",
       "    .dataframe tbody tr th:only-of-type {\n",
       "        vertical-align: middle;\n",
       "    }\n",
       "\n",
       "    .dataframe tbody tr th {\n",
       "        vertical-align: top;\n",
       "    }\n",
       "\n",
       "    .dataframe thead th {\n",
       "        text-align: right;\n",
       "    }\n",
       "</style>\n",
       "<table border=\"1\" class=\"dataframe\">\n",
       "  <thead>\n",
       "    <tr style=\"text-align: right;\">\n",
       "      <th>condition</th>\n",
       "      <th>happy_cat</th>\n",
       "      <th>sad_cat</th>\n",
       "    </tr>\n",
       "    <tr>\n",
       "      <th>visit_date</th>\n",
       "      <th></th>\n",
       "      <th></th>\n",
       "    </tr>\n",
       "  </thead>\n",
       "  <tbody>\n",
       "    <tr>\n",
       "      <td>1</td>\n",
       "      <td>0.539735</td>\n",
       "      <td>0.326693</td>\n",
       "    </tr>\n",
       "    <tr>\n",
       "      <td>2</td>\n",
       "      <td>0.528302</td>\n",
       "      <td>0.290323</td>\n",
       "    </tr>\n",
       "    <tr>\n",
       "      <td>3</td>\n",
       "      <td>0.531120</td>\n",
       "      <td>0.312500</td>\n",
       "    </tr>\n",
       "    <tr>\n",
       "      <td>4</td>\n",
       "      <td>0.484000</td>\n",
       "      <td>0.334783</td>\n",
       "    </tr>\n",
       "    <tr>\n",
       "      <td>5</td>\n",
       "      <td>0.473896</td>\n",
       "      <td>0.346863</td>\n",
       "    </tr>\n",
       "    <tr>\n",
       "      <td>6</td>\n",
       "      <td>0.486056</td>\n",
       "      <td>0.350806</td>\n",
       "    </tr>\n",
       "    <tr>\n",
       "      <td>7</td>\n",
       "      <td>0.518657</td>\n",
       "      <td>0.335714</td>\n",
       "    </tr>\n",
       "    <tr>\n",
       "      <td>8</td>\n",
       "      <td>0.462810</td>\n",
       "      <td>0.290837</td>\n",
       "    </tr>\n",
       "  </tbody>\n",
       "</table>\n",
       "</div>"
      ],
      "text/plain": [
       "condition   happy_cat   sad_cat\n",
       "visit_date                     \n",
       "1            0.539735  0.326693\n",
       "2            0.528302  0.290323\n",
       "3            0.531120  0.312500\n",
       "4            0.484000  0.334783\n",
       "5            0.473896  0.346863\n",
       "6            0.486056  0.350806\n",
       "7            0.518657  0.335714\n",
       "8            0.462810  0.290837"
      ]
     },
     "execution_count": 49,
     "metadata": {},
     "output_type": "execute_result"
    }
   ],
   "source": [
    "# create a pivot table to compare the changes\n",
    "pivot_tbl = pd.pivot_table(eight_month, values ='clicked_button', index = eight_month['visit_date'].dt.month, columns = ['condition'],aggfunc = np.mean)\n",
    "pivot_tbl"
   ]
  },
  {
   "cell_type": "code",
   "execution_count": 52,
   "metadata": {},
   "outputs": [
    {
     "data": {
      "text/html": [
       "<div>\n",
       "<style scoped>\n",
       "    .dataframe tbody tr th:only-of-type {\n",
       "        vertical-align: middle;\n",
       "    }\n",
       "\n",
       "    .dataframe tbody tr th {\n",
       "        vertical-align: top;\n",
       "    }\n",
       "\n",
       "    .dataframe thead th {\n",
       "        text-align: right;\n",
       "    }\n",
       "</style>\n",
       "<table border=\"1\" class=\"dataframe\">\n",
       "  <thead>\n",
       "    <tr style=\"text-align: right;\">\n",
       "      <th>condition</th>\n",
       "      <th>happy_cat</th>\n",
       "      <th>sad_cat</th>\n",
       "      <th>difference</th>\n",
       "    </tr>\n",
       "    <tr>\n",
       "      <th>visit_date</th>\n",
       "      <th></th>\n",
       "      <th></th>\n",
       "      <th></th>\n",
       "    </tr>\n",
       "  </thead>\n",
       "  <tbody>\n",
       "    <tr>\n",
       "      <td>1</td>\n",
       "      <td>0.539735</td>\n",
       "      <td>0.326693</td>\n",
       "      <td>0.213042</td>\n",
       "    </tr>\n",
       "    <tr>\n",
       "      <td>2</td>\n",
       "      <td>0.528302</td>\n",
       "      <td>0.290323</td>\n",
       "      <td>0.237979</td>\n",
       "    </tr>\n",
       "    <tr>\n",
       "      <td>3</td>\n",
       "      <td>0.531120</td>\n",
       "      <td>0.312500</td>\n",
       "      <td>0.218620</td>\n",
       "    </tr>\n",
       "    <tr>\n",
       "      <td>4</td>\n",
       "      <td>0.484000</td>\n",
       "      <td>0.334783</td>\n",
       "      <td>0.149217</td>\n",
       "    </tr>\n",
       "    <tr>\n",
       "      <td>5</td>\n",
       "      <td>0.473896</td>\n",
       "      <td>0.346863</td>\n",
       "      <td>0.127032</td>\n",
       "    </tr>\n",
       "    <tr>\n",
       "      <td>6</td>\n",
       "      <td>0.486056</td>\n",
       "      <td>0.350806</td>\n",
       "      <td>0.135249</td>\n",
       "    </tr>\n",
       "    <tr>\n",
       "      <td>7</td>\n",
       "      <td>0.518657</td>\n",
       "      <td>0.335714</td>\n",
       "      <td>0.182942</td>\n",
       "    </tr>\n",
       "    <tr>\n",
       "      <td>8</td>\n",
       "      <td>0.462810</td>\n",
       "      <td>0.290837</td>\n",
       "      <td>0.171973</td>\n",
       "    </tr>\n",
       "  </tbody>\n",
       "</table>\n",
       "</div>"
      ],
      "text/plain": [
       "condition   happy_cat   sad_cat  difference\n",
       "visit_date                                 \n",
       "1            0.539735  0.326693    0.213042\n",
       "2            0.528302  0.290323    0.237979\n",
       "3            0.531120  0.312500    0.218620\n",
       "4            0.484000  0.334783    0.149217\n",
       "5            0.473896  0.346863    0.127032\n",
       "6            0.486056  0.350806    0.135249\n",
       "7            0.518657  0.335714    0.182942\n",
       "8            0.462810  0.290837    0.171973"
      ]
     },
     "execution_count": 52,
     "metadata": {},
     "output_type": "execute_result"
    }
   ],
   "source": [
    "# create new variable for the difference\n",
    "pivot_tbl['difference'] = pivot_tbl['happy_cat']- pivot_tbl['sad_cat']\n",
    "pivot_tbl"
   ]
  },
  {
   "cell_type": "markdown",
   "metadata": {},
   "source": [
    "Looking at the difference, we can see that after March the differnce between the Happy and Sad cat dropped quite a bit and hovered around on the average 14-17% difference. We should be cautious if we want to use these numbers as bench marks for our follow up test, so it will be depending on which month select."
   ]
  },
  {
   "cell_type": "markdown",
   "metadata": {},
   "source": [
    "# Follow up Experiment (Continued..)\n",
    "\n",
    "Now we understand the month patterns in the data we can test out the power analysis to get the appropriate sample size and understand if our experiment performed well.\n",
    "\n",
    "From our original experiment with the happy and sad cat the conversion rate was 38%. If we take the average of the 8 month difference and add it to the 30% we should get a baseline conversion."
   ]
  },
  {
   "cell_type": "code",
   "execution_count": 53,
   "metadata": {},
   "outputs": [
    {
     "data": {
      "text/plain": [
       "0.17950700441183276"
      ]
     },
     "execution_count": 53,
     "metadata": {},
     "output_type": "execute_result"
    }
   ],
   "source": [
    "pivot_tbl['difference'].mean()"
   ]
  },
  {
   "cell_type": "markdown",
   "metadata": {},
   "source": [
    "Approximately ~18%, so we can add that to the 38% which would be 58%. We also want to see an increase of 15% conversion rate."
   ]
  },
  {
   "cell_type": "code",
   "execution_count": 57,
   "metadata": {},
   "outputs": [
    {
     "data": {
      "text/plain": [
       "201"
      ]
     },
     "execution_count": 57,
     "metadata": {},
     "output_type": "execute_result"
    }
   ],
   "source": [
    "# using the get sample size formula\n",
    "get_sample_size(0.8, 0.58,0.73, 0.95)"
   ]
  },
  {
   "cell_type": "markdown",
   "metadata": {},
   "source": [
    "Now we see our sample need 201 users to run the test. We have the results from September 2018. Let's explore the dataset."
   ]
  },
  {
   "cell_type": "code",
   "execution_count": 71,
   "metadata": {},
   "outputs": [],
   "source": [
    "# read dataset\n",
    "september = pd.read_csv(\"september_2018.csv\")\n",
    "\n",
    "#convert to datetime\n",
    "september['visit_date'] = pd.to_datetime(september['visit_date'])"
   ]
  },
  {
   "cell_type": "code",
   "execution_count": 73,
   "metadata": {},
   "outputs": [
    {
     "data": {
      "text/html": [
       "<div>\n",
       "<style scoped>\n",
       "    .dataframe tbody tr th:only-of-type {\n",
       "        vertical-align: middle;\n",
       "    }\n",
       "\n",
       "    .dataframe tbody tr th {\n",
       "        vertical-align: top;\n",
       "    }\n",
       "\n",
       "    .dataframe thead th {\n",
       "        text-align: right;\n",
       "    }\n",
       "</style>\n",
       "<table border=\"1\" class=\"dataframe\">\n",
       "  <thead>\n",
       "    <tr style=\"text-align: right;\">\n",
       "      <th></th>\n",
       "      <th>clicked_button</th>\n",
       "    </tr>\n",
       "    <tr>\n",
       "      <th>condition</th>\n",
       "      <th></th>\n",
       "    </tr>\n",
       "  </thead>\n",
       "  <tbody>\n",
       "    <tr>\n",
       "      <td>cat</td>\n",
       "      <td>0.601770</td>\n",
       "    </tr>\n",
       "    <tr>\n",
       "      <td>kitten</td>\n",
       "      <td>0.754717</td>\n",
       "    </tr>\n",
       "  </tbody>\n",
       "</table>\n",
       "</div>"
      ],
      "text/plain": [
       "           clicked_button\n",
       "condition                \n",
       "cat              0.601770\n",
       "kitten           0.754717"
      ]
     },
     "execution_count": 73,
     "metadata": {},
     "output_type": "execute_result"
    }
   ],
   "source": [
    "september.groupby(['condition']).agg('mean')"
   ]
  },
  {
   "cell_type": "markdown",
   "metadata": {},
   "source": [
    "The kitten landing page performed better, with a higher conversion rate at 75%. A 15% difference from the Cat photo, which is the close to the 18% average difference we had in the past.\n",
    "\n",
    "## Logisitic Model"
   ]
  },
  {
   "cell_type": "code",
   "execution_count": 74,
   "metadata": {},
   "outputs": [
    {
     "name": "stdout",
     "output_type": "stream",
     "text": [
      "Optimization terminated successfully.\n",
      "         Current function value: 0.616531\n",
      "         Iterations 5\n"
     ]
    },
    {
     "data": {
      "text/html": [
       "<table class=\"simpletable\">\n",
       "<caption>Logit Regression Results</caption>\n",
       "<tr>\n",
       "  <th>Dep. Variable:</th>    <td>clicked_button</td>  <th>  No. Observations:  </th>  <td>   219</td> \n",
       "</tr>\n",
       "<tr>\n",
       "  <th>Model:</th>                 <td>Logit</td>      <th>  Df Residuals:      </th>  <td>   217</td> \n",
       "</tr>\n",
       "<tr>\n",
       "  <th>Method:</th>                 <td>MLE</td>       <th>  Df Model:          </th>  <td>     1</td> \n",
       "</tr>\n",
       "<tr>\n",
       "  <th>Date:</th>            <td>Sun, 17 May 2020</td> <th>  Pseudo R-squ.:     </th>  <td>0.02137</td>\n",
       "</tr>\n",
       "<tr>\n",
       "  <th>Time:</th>                <td>20:23:03</td>     <th>  Log-Likelihood:    </th> <td> -135.02</td>\n",
       "</tr>\n",
       "<tr>\n",
       "  <th>converged:</th>             <td>True</td>       <th>  LL-Null:           </th> <td> -137.97</td>\n",
       "</tr>\n",
       "<tr>\n",
       "  <th>Covariance Type:</th>     <td>nonrobust</td>    <th>  LLR p-value:       </th>  <td>0.01516</td>\n",
       "</tr>\n",
       "</table>\n",
       "<table class=\"simpletable\">\n",
       "<tr>\n",
       "           <td></td>              <th>coef</th>     <th>std err</th>      <th>z</th>      <th>P>|z|</th>  <th>[0.025</th>    <th>0.975]</th>  \n",
       "</tr>\n",
       "<tr>\n",
       "  <th>Intercept</th>           <td>    0.4128</td> <td>    0.192</td> <td>    2.148</td> <td> 0.032</td> <td>    0.036</td> <td>    0.789</td>\n",
       "</tr>\n",
       "<tr>\n",
       "  <th>condition[T.kitten]</th> <td>    0.7111</td> <td>    0.296</td> <td>    2.399</td> <td> 0.016</td> <td>    0.130</td> <td>    1.292</td>\n",
       "</tr>\n",
       "</table>"
      ],
      "text/plain": [
       "<class 'statsmodels.iolib.summary.Summary'>\n",
       "\"\"\"\n",
       "                           Logit Regression Results                           \n",
       "==============================================================================\n",
       "Dep. Variable:         clicked_button   No. Observations:                  219\n",
       "Model:                          Logit   Df Residuals:                      217\n",
       "Method:                           MLE   Df Model:                            1\n",
       "Date:                Sun, 17 May 2020   Pseudo R-squ.:                 0.02137\n",
       "Time:                        20:23:03   Log-Likelihood:                -135.02\n",
       "converged:                       True   LL-Null:                       -137.97\n",
       "Covariance Type:            nonrobust   LLR p-value:                   0.01516\n",
       "=======================================================================================\n",
       "                          coef    std err          z      P>|z|      [0.025      0.975]\n",
       "---------------------------------------------------------------------------------------\n",
       "Intercept               0.4128      0.192      2.148      0.032       0.036       0.789\n",
       "condition[T.kitten]     0.7111      0.296      2.399      0.016       0.130       1.292\n",
       "=======================================================================================\n",
       "\"\"\""
      ]
     },
     "execution_count": 74,
     "metadata": {},
     "output_type": "execute_result"
    }
   ],
   "source": [
    "# import statsmodels.formula.api as smf\n",
    "\n",
    "# instantiating a logistic regression model object\n",
    "logistic_full = smf.logit(formula = \"\"\" clicked_button ~ condition\n",
    "                                        \"\"\",\n",
    "                                        data    = september)\n",
    "\n",
    "# fitting the model object\n",
    "results_full = logistic_full.fit()\n",
    "\n",
    "\n",
    "# checking the results SUMMARY\n",
    "results_full.summary()"
   ]
  },
  {
   "cell_type": "markdown",
   "metadata": {},
   "source": [
    "Our follow-up experiment was successful! Now that we pulled the correct number of data points, we can see that there is a boost by using a kitten over a cat."
   ]
  },
  {
   "cell_type": "markdown",
   "metadata": {},
   "source": [
    "# Final Overview\n",
    "\n",
    "With our goal to increase conversions in users clicking the \"Adopt today\" button on a pet adoption landing page we could see how the changes affected our results. In the first scenario we changed the original sad cat, to a happy cat and we saw our conversions performed better for the test group by 18% more (total 38% conversion).\n",
    "\n",
    "After a successful test, we decided to roll out the happy cat to the entire population. We wanted to asses if could continue testing and improve conversions, so we looked into changing the happy cat to a happy kitten. We ran the test with a smaller samples size because we were hoping for a big jump in conversions with this change. Despite our assumptions, the result was not significant and there for we had to get a large sample size.\n",
    "\n",
    "Before continuing with our follow up we decided to let our original happy/sad cat test continue to run over the next 8 months. We did this to see the longer term affects on the original test. After 8 months we say a relatively consistent conversion for the happy cat around 48-50% - continusouly outperforming the sad cat.\n",
    "\n",
    "After gathering more data, we had better information to improve our assumptions on the baseline conversions. Now we tested the new converison baselines and got a more appropriate sample size for our follow up kitten test. Running the improved test, our results deemed to be significant and our Kitten group outperformed our cat group witha conversion of 75%. We now have a strong foundation to gradually keep building on our results."
   ]
  },
  {
   "cell_type": "code",
   "execution_count": null,
   "metadata": {},
   "outputs": [],
   "source": []
  }
 ],
 "metadata": {
  "kernelspec": {
   "display_name": "Python 3",
   "language": "python",
   "name": "python3"
  },
  "language_info": {
   "codemirror_mode": {
    "name": "ipython",
    "version": 3
   },
   "file_extension": ".py",
   "mimetype": "text/x-python",
   "name": "python",
   "nbconvert_exporter": "python",
   "pygments_lexer": "ipython3",
   "version": "3.7.4"
  },
  "toc": {
   "base_numbering": 1,
   "nav_menu": {},
   "number_sections": false,
   "sideBar": true,
   "skip_h1_title": false,
   "title_cell": "Table of Contents",
   "title_sidebar": "Contents",
   "toc_cell": false,
   "toc_position": {
    "height": "calc(100% - 180px)",
    "left": "10px",
    "top": "150px",
    "width": "204.261px"
   },
   "toc_section_display": true,
   "toc_window_display": false
  },
  "varInspector": {
   "cols": {
    "lenName": 16,
    "lenType": 16,
    "lenVar": 40
   },
   "kernels_config": {
    "python": {
     "delete_cmd_postfix": "",
     "delete_cmd_prefix": "del ",
     "library": "var_list.py",
     "varRefreshCmd": "print(var_dic_list())"
    },
    "r": {
     "delete_cmd_postfix": ") ",
     "delete_cmd_prefix": "rm(",
     "library": "var_list.r",
     "varRefreshCmd": "cat(var_dic_list()) "
    }
   },
   "types_to_exclude": [
    "module",
    "function",
    "builtin_function_or_method",
    "instance",
    "_Feature"
   ],
   "window_display": false
  }
 },
 "nbformat": 4,
 "nbformat_minor": 2
}
