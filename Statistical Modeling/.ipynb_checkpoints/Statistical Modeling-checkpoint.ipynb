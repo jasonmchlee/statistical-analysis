{
 "cells": [
  {
   "cell_type": "markdown",
   "metadata": {},
   "source": [
    "# Statistical Modeling\n",
    "\n",
    "### Modeling running times\n",
    "In this exercise, I'll  build three different models based on the data Runners. The data come from records of the Cherry Blossom Ten Mile Run, a foot race held in Washington, DC each spring.\n",
    "\n",
    "Imagining I have been assigned the task of constructing a handicap for the runners, so that different runners can compare their times adjusting for their age and/or sex.\n",
    "\n",
    "I will construct three different models using the linear model architecture. Each will have the \"net\" running time as a response and age and/or sex as explanatory variables."
   ]
  },
  {
   "cell_type": "code",
   "execution_count": 9,
   "metadata": {},
   "outputs": [],
   "source": [
    "#load dataset\n",
    "runners <- read.csv(\"Runners100.csv\")"
   ]
  },
  {
   "cell_type": "code",
   "execution_count": 10,
   "metadata": {},
   "outputs": [
    {
     "data": {
      "text/html": [
       "<ol class=list-inline>\n",
       "\t<li>'age'</li>\n",
       "\t<li>'net'</li>\n",
       "\t<li>'gun'</li>\n",
       "\t<li>'sex'</li>\n",
       "\t<li>'year'</li>\n",
       "\t<li>'previous'</li>\n",
       "\t<li>'nruns'</li>\n",
       "\t<li>'start_position'</li>\n",
       "\t<li>'orig.id'</li>\n",
       "</ol>\n"
      ],
      "text/latex": [
       "\\begin{enumerate*}\n",
       "\\item 'age'\n",
       "\\item 'net'\n",
       "\\item 'gun'\n",
       "\\item 'sex'\n",
       "\\item 'year'\n",
       "\\item 'previous'\n",
       "\\item 'nruns'\n",
       "\\item 'start\\_position'\n",
       "\\item 'orig.id'\n",
       "\\end{enumerate*}\n"
      ],
      "text/markdown": [
       "1. 'age'\n",
       "2. 'net'\n",
       "3. 'gun'\n",
       "4. 'sex'\n",
       "5. 'year'\n",
       "6. 'previous'\n",
       "7. 'nruns'\n",
       "8. 'start_position'\n",
       "9. 'orig.id'\n",
       "\n",
       "\n"
      ],
      "text/plain": [
       "[1] \"age\"            \"net\"            \"gun\"            \"sex\"           \n",
       "[5] \"year\"           \"previous\"       \"nruns\"          \"start_position\"\n",
       "[9] \"orig.id\"       "
      ]
     },
     "metadata": {},
     "output_type": "display_data"
    }
   ],
   "source": [
    "# Find the variable names in Runners \n",
    "names(runners)"
   ]
  },
  {
   "cell_type": "code",
   "execution_count": 12,
   "metadata": {},
   "outputs": [],
   "source": [
    "#Build models: handicap_model_1, handicap_model_2, handicap_model_3 \n",
    "handicap_model_1 <- lm(net ~ age, data = runners)\n",
    "handicap_model_2 <- lm(net ~ sex, data = runners)\n",
    "handicap_model_3 <- lm(net ~ age+sex, data = runners)"
   ]
  },
  {
   "cell_type": "code",
   "execution_count": null,
   "metadata": {},
   "outputs": [],
   "source": [
    "plot(handicap_model_1)\n",
    "plot(handicap_model_3)\n",
    "plot(handicap_model_3)"
   ]
  },
  {
   "cell_type": "code",
   "execution_count": null,
   "metadata": {},
   "outputs": [],
   "source": []
  }
 ],
 "metadata": {
  "kernelspec": {
   "display_name": "R",
   "language": "R",
   "name": "ir"
  },
  "language_info": {
   "codemirror_mode": "r",
   "file_extension": ".r",
   "mimetype": "text/x-r-source",
   "name": "R",
   "pygments_lexer": "r",
   "version": "3.6.1"
  }
 },
 "nbformat": 4,
 "nbformat_minor": 2
}
