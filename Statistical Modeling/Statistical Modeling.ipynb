---
title: "Statistical Modeling"

header: Modeling running times
In this exercise, I'll build three different models based on the data Runners. The data come from records of the Cherry Blossom Ten Mile Run, a foot race held in Washington, DC each spring.

Imagining I have been assigned the task of constructing a handicap for the runners, so that different runners can compare their times adjusting for their age and/or sex.

I will construct three different models using the linear model architecture. Each will have the "net" running time as a response and age and/or sex as explanatory variables.
---

```{r}
library(mosaicData)
library(statisticalModeling)
library(ggplot2)
library(dplyr)
library(rpart)
library(purrr)
```
---

```{r}
#load dataset
runners <- read.csv("Runners100.csv")

# Find the variable names in Runners 
names(runners)
```

```{r}
#Build models: handicap_model_1, handicap_model_2, handicap_model_3 
handicap_model_1 <- lm(net ~ age, data = runners)
handicap_model_2 <- lm(net ~ sex, data = runners)
handicap_model_3 <- lm(net ~ age+sex, data = runners)
```

```{r}
fmodel(handicap_model_1)
fmodel(handicap_model_2)
fmodel(handicap_model_3)
```