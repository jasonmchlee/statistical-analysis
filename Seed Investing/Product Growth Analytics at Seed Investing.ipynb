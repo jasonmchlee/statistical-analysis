{
 "cells": [
  {
   "cell_type": "markdown",
   "metadata": {},
   "source": [
    "# Product Growth Analytics at Seed Investing \n",
    "## Overview\n",
    "\n",
    "Seed is a fictional fast-growing fintech company, growing to 100K users in the first 6 months since their app launched. While new users have been signing up, there has been low conversion to commit to their first investment deposit. This is the more important metric they track since it increases the assets under management (AUM). Seed charges 1% of the total AUM in each user account annually.\n",
    "\n",
    "The app currently records a 22.68% conversion rate and a standard deviation of 0.42 for new users opening an account and submitting their first deposit into an investment account. They call this New User First Deposit Rate (NUFD Rate). The company believes that customers would be more inclined to open an investment account if they could interact with the app before providing personal details like SSN, contact information, and bank details.\n",
    "\n",
    "After running user surveys with new and current users, the team found a strong interest in improving the user experience by adding more content and accessibility. The goal was to provide as much transparency about the investment app before users needed to commit any financial capital.\n"
   ]
  },
  {
   "cell_type": "code",
   "execution_count": 70,
   "metadata": {},
   "outputs": [],
   "source": [
    "import pandas as pd\n",
    "import numpy as np\n",
    "import matplotlib.pyplot as plt\n",
    "import seaborn as sns\n",
    "import random as rand\n",
    "pd.set_option('display.max_rows', 10000)"
   ]
  },
  {
   "cell_type": "markdown",
   "metadata": {},
   "source": [
    "## Functions"
   ]
  },
  {
   "cell_type": "code",
   "execution_count": 270,
   "metadata": {},
   "outputs": [],
   "source": [
    "def find_z(x_bar, mu, stdev, sample_size):\n",
    "    \"\"\"Formula to calculate z_score.\n",
    "       Using this z_score to reference z_table\"\"\"\n",
    "    z_score = (x_bar - mu) / (stdev / (np.sqrt(sample_size)))\n",
    "    \n",
    "    return 'z_score: {}'.format(z_score.round(2))"
   ]
  },
  {
   "cell_type": "code",
   "execution_count": 267,
   "metadata": {},
   "outputs": [],
   "source": [
    "def find_p_value(z_score, alpha):\n",
    "    \"\"\" Enter p-value from z-score table\"\"\"\n",
    "    result = (1- z_score) < alpha\n",
    "    p_value = round((1- z_score),4)\n",
    "    \n",
    "    if result == True:\n",
    "        return '''Results are Statistically Siginificant: p-value = {}'''.format(p_value)\n",
    "                \n",
    "    else:\n",
    "        return '''Results are NOT Statistically Siginificant: p-value = {}'''.format(p_value)"
   ]
  },
  {
   "cell_type": "markdown",
   "metadata": {},
   "source": [
    "## Experiment #1"
   ]
  },
  {
   "cell_type": "code",
   "execution_count": 259,
   "metadata": {},
   "outputs": [],
   "source": [
    "conversions = pd.read_csv('investment_conversion.csv')"
   ]
  },
  {
   "cell_type": "code",
   "execution_count": 261,
   "metadata": {},
   "outputs": [
    {
     "name": "stderr",
     "output_type": "stream",
     "text": [
      "/Users/jason/anaconda3/lib/python3.7/site-packages/ipykernel_launcher.py:5: FutureWarning: using a dict on a Series for aggregation\n",
      "is deprecated and will be removed in a future version. Use                 named aggregation instead.\n",
      "\n",
      "    >>> grouper.agg(name_1=func_1, name_2=func_2)\n",
      "\n",
      "  \"\"\"\n"
     ]
    },
    {
     "data": {
      "text/html": [
       "<div>\n",
       "<style scoped>\n",
       "    .dataframe tbody tr th:only-of-type {\n",
       "        vertical-align: middle;\n",
       "    }\n",
       "\n",
       "    .dataframe tbody tr th {\n",
       "        vertical-align: top;\n",
       "    }\n",
       "\n",
       "    .dataframe thead th {\n",
       "        text-align: right;\n",
       "    }\n",
       "</style>\n",
       "<table border=\"1\" class=\"dataframe\">\n",
       "  <thead>\n",
       "    <tr style=\"text-align: right;\">\n",
       "      <th></th>\n",
       "      <th>Group</th>\n",
       "      <th>conversion_rate</th>\n",
       "      <th>stdev</th>\n",
       "      <th>converted</th>\n",
       "      <th>sample_size</th>\n",
       "    </tr>\n",
       "  </thead>\n",
       "  <tbody>\n",
       "    <tr>\n",
       "      <td>0</td>\n",
       "      <td>A</td>\n",
       "      <td>0.226802</td>\n",
       "      <td>0.418785</td>\n",
       "      <td>2212</td>\n",
       "      <td>9753</td>\n",
       "    </tr>\n",
       "    <tr>\n",
       "      <td>1</td>\n",
       "      <td>B</td>\n",
       "      <td>0.237801</td>\n",
       "      <td>0.425758</td>\n",
       "      <td>2388</td>\n",
       "      <td>10042</td>\n",
       "    </tr>\n",
       "  </tbody>\n",
       "</table>\n",
       "</div>"
      ],
      "text/plain": [
       "  Group  conversion_rate     stdev  converted  sample_size\n",
       "0     A         0.226802  0.418785       2212         9753\n",
       "1     B         0.237801  0.425758       2388        10042"
      ]
     },
     "execution_count": 261,
     "metadata": {},
     "output_type": "execute_result"
    }
   ],
   "source": [
    "# Getting the original sample size conversion\n",
    "experiment_results = pd.DataFrame(conversions.groupby('Group')['Outcome'].agg({'conversion_rate': 'mean', \n",
    "                                                     'stdev':'std', \n",
    "                                                     'converted':'sum', \n",
    "                                                     'sample_size':'count'})).reset_index() \n",
    "experiment_results"
   ]
  },
  {
   "cell_type": "markdown",
   "metadata": {},
   "source": [
    "### Interpretting Results"
   ]
  },
  {
   "cell_type": "code",
   "execution_count": 262,
   "metadata": {},
   "outputs": [],
   "source": [
    "# Convert to percentage\n",
    "experiment_results['conversion_rate'] = (experiment_results['conversion_rate'] * 100).round(2)"
   ]
  },
  {
   "cell_type": "code",
   "execution_count": 263,
   "metadata": {},
   "outputs": [
    {
     "data": {
      "text/html": [
       "<div>\n",
       "<style scoped>\n",
       "    .dataframe tbody tr th:only-of-type {\n",
       "        vertical-align: middle;\n",
       "    }\n",
       "\n",
       "    .dataframe tbody tr th {\n",
       "        vertical-align: top;\n",
       "    }\n",
       "\n",
       "    .dataframe thead th {\n",
       "        text-align: right;\n",
       "    }\n",
       "</style>\n",
       "<table border=\"1\" class=\"dataframe\">\n",
       "  <thead>\n",
       "    <tr style=\"text-align: right;\">\n",
       "      <th></th>\n",
       "      <th>Group</th>\n",
       "      <th>conversion_rate</th>\n",
       "      <th>stdev</th>\n",
       "      <th>converted</th>\n",
       "      <th>sample_size</th>\n",
       "    </tr>\n",
       "  </thead>\n",
       "  <tbody>\n",
       "    <tr>\n",
       "      <td>0</td>\n",
       "      <td>A</td>\n",
       "      <td>22.68</td>\n",
       "      <td>0.418785</td>\n",
       "      <td>2212</td>\n",
       "      <td>9753</td>\n",
       "    </tr>\n",
       "    <tr>\n",
       "      <td>1</td>\n",
       "      <td>B</td>\n",
       "      <td>23.78</td>\n",
       "      <td>0.425758</td>\n",
       "      <td>2388</td>\n",
       "      <td>10042</td>\n",
       "    </tr>\n",
       "  </tbody>\n",
       "</table>\n",
       "</div>"
      ],
      "text/plain": [
       "  Group  conversion_rate     stdev  converted  sample_size\n",
       "0     A            22.68  0.418785       2212         9753\n",
       "1     B            23.78  0.425758       2388        10042"
      ]
     },
     "execution_count": 263,
     "metadata": {},
     "output_type": "execute_result"
    }
   ],
   "source": [
    "experiment_results"
   ]
  },
  {
   "cell_type": "code",
   "execution_count": 271,
   "metadata": {},
   "outputs": [
    {
     "data": {
      "text/plain": [
       "'z_score: 2.59'"
      ]
     },
     "execution_count": 271,
     "metadata": {},
     "output_type": "execute_result"
    }
   ],
   "source": [
    "find_z(0.2378, 0.2268, 0.425758, 10042)"
   ]
  },
  {
   "cell_type": "code",
   "execution_count": 272,
   "metadata": {},
   "outputs": [
    {
     "data": {
      "text/plain": [
       "'Results are Statistically Siginificant: p-value = 0.0074'"
      ]
     },
     "execution_count": 272,
     "metadata": {},
     "output_type": "execute_result"
    }
   ],
   "source": [
    "find_p_value(0.9926, 0.05)"
   ]
  },
  {
   "cell_type": "markdown",
   "metadata": {},
   "source": [
    "## Experiment #2"
   ]
  },
  {
   "cell_type": "code",
   "execution_count": 273,
   "metadata": {},
   "outputs": [],
   "source": [
    "deposits = pd.read_csv('first_deposit.csv')"
   ]
  },
  {
   "cell_type": "code",
   "execution_count": 274,
   "metadata": {},
   "outputs": [
    {
     "name": "stderr",
     "output_type": "stream",
     "text": [
      "/Users/jason/anaconda3/lib/python3.7/site-packages/ipykernel_launcher.py:5: FutureWarning: using a dict on a Series for aggregation\n",
      "is deprecated and will be removed in a future version. Use                 named aggregation instead.\n",
      "\n",
      "    >>> grouper.agg(name_1=func_1, name_2=func_2)\n",
      "\n",
      "  \"\"\"\n"
     ]
    },
    {
     "data": {
      "text/html": [
       "<div>\n",
       "<style scoped>\n",
       "    .dataframe tbody tr th:only-of-type {\n",
       "        vertical-align: middle;\n",
       "    }\n",
       "\n",
       "    .dataframe tbody tr th {\n",
       "        vertical-align: top;\n",
       "    }\n",
       "\n",
       "    .dataframe thead th {\n",
       "        text-align: right;\n",
       "    }\n",
       "</style>\n",
       "<table border=\"1\" class=\"dataframe\">\n",
       "  <thead>\n",
       "    <tr style=\"text-align: right;\">\n",
       "      <th></th>\n",
       "      <th>Group</th>\n",
       "      <th>avg_deposit</th>\n",
       "      <th>stdev</th>\n",
       "      <th>total_deposits</th>\n",
       "      <th>sample_size</th>\n",
       "    </tr>\n",
       "  </thead>\n",
       "  <tbody>\n",
       "    <tr>\n",
       "      <td>0</td>\n",
       "      <td>A</td>\n",
       "      <td>72.428013</td>\n",
       "      <td>376.708694</td>\n",
       "      <td>685676</td>\n",
       "      <td>9467</td>\n",
       "    </tr>\n",
       "    <tr>\n",
       "      <td>1</td>\n",
       "      <td>B</td>\n",
       "      <td>78.726013</td>\n",
       "      <td>387.030044</td>\n",
       "      <td>767185</td>\n",
       "      <td>9745</td>\n",
       "    </tr>\n",
       "  </tbody>\n",
       "</table>\n",
       "</div>"
      ],
      "text/plain": [
       "  Group  avg_deposit       stdev  total_deposits  sample_size\n",
       "0     A    72.428013  376.708694          685676         9467\n",
       "1     B    78.726013  387.030044          767185         9745"
      ]
     },
     "execution_count": 274,
     "metadata": {},
     "output_type": "execute_result"
    }
   ],
   "source": [
    "# Getting the original sample size conversion\n",
    "deposit_results = pd.DataFrame(deposits.groupby('Group')['Deposit'].agg({'avg_deposit': 'mean', \n",
    "                                                     'stdev':'std', \n",
    "                                                     'total_deposits':'sum', \n",
    "                                                     'sample_size':'count'})).reset_index() \n",
    "deposit_results"
   ]
  },
  {
   "cell_type": "markdown",
   "metadata": {},
   "source": [
    "### Interpretting Results"
   ]
  },
  {
   "cell_type": "code",
   "execution_count": 279,
   "metadata": {},
   "outputs": [
    {
     "data": {
      "text/plain": [
       "'z_score: 1.61'"
      ]
     },
     "execution_count": 279,
     "metadata": {},
     "output_type": "execute_result"
    }
   ],
   "source": [
    "find_z (78.73, 72.43, 387.03, 9745)"
   ]
  },
  {
   "cell_type": "code",
   "execution_count": 280,
   "metadata": {},
   "outputs": [
    {
     "data": {
      "text/plain": [
       "'Results are NOT Statistically Siginificant: p-value = 0.0537'"
      ]
     },
     "execution_count": 280,
     "metadata": {},
     "output_type": "execute_result"
    }
   ],
   "source": [
    "find_p_value (0.9463, 0.05)"
   ]
  },
  {
   "cell_type": "markdown",
   "metadata": {},
   "source": [
    "### Formating Permutation Test"
   ]
  },
  {
   "cell_type": "code",
   "execution_count": 281,
   "metadata": {},
   "outputs": [],
   "source": [
    "# Calculate the deltas between the test and control group\n",
    "b_delta = round(float(deposit_results[deposit_results['Group'] == 'B']['avg_deposit'])\\\n",
    "- float(deposit_results[deposit_results['Group'] == 'A']['avg_deposit']),2)"
   ]
  },
  {
   "cell_type": "code",
   "execution_count": 282,
   "metadata": {},
   "outputs": [
    {
     "name": "stdout",
     "output_type": "stream",
     "text": [
      "B delta: 6.3\n"
     ]
    }
   ],
   "source": [
    "print(\"B delta: {}\".format(b_delta))"
   ]
  },
  {
   "cell_type": "code",
   "execution_count": 283,
   "metadata": {},
   "outputs": [],
   "source": [
    "# Set sizes for the original samples\n",
    "a_size = int(deposit_results[deposit_results['Group'] == 'A']['sample_size'])\n",
    "b_size = int(deposit_results[deposit_results['Group'] == 'B']['sample_size'])"
   ]
  },
  {
   "cell_type": "code",
   "execution_count": 284,
   "metadata": {},
   "outputs": [],
   "source": [
    "# Store only the outcomes from the dataset to keep the sample random\n",
    "outcomes = list(deposits['Deposit'])"
   ]
  },
  {
   "cell_type": "markdown",
   "metadata": {},
   "source": [
    "#### Sanity Checks"
   ]
  },
  {
   "cell_type": "code",
   "execution_count": 285,
   "metadata": {},
   "outputs": [
    {
     "data": {
      "text/plain": [
       "True"
      ]
     },
     "execution_count": 285,
     "metadata": {},
     "output_type": "execute_result"
    }
   ],
   "source": [
    "# Run sanity check to make sure new list is the same with the originlal sample size\n",
    "len(outcomes) == (a_size + b_size)"
   ]
  },
  {
   "cell_type": "code",
   "execution_count": 286,
   "metadata": {},
   "outputs": [],
   "source": [
    "# Testing the slicing of the list is correct\n",
    "a_list = outcomes[:a_size]\n",
    "b_list = outcomes[-b_size:]"
   ]
  },
  {
   "cell_type": "code",
   "execution_count": 287,
   "metadata": {},
   "outputs": [
    {
     "name": "stdout",
     "output_type": "stream",
     "text": [
      "True\n",
      "True\n"
     ]
    }
   ],
   "source": [
    "# Checking if the new slices equal the actual lengths\n",
    "print(len(a_list) == a_size)\n",
    "print(len(b_list) == b_size)"
   ]
  },
  {
   "cell_type": "markdown",
   "metadata": {},
   "source": [
    "### Running Permutation Test"
   ]
  },
  {
   "cell_type": "code",
   "execution_count": 296,
   "metadata": {},
   "outputs": [],
   "source": [
    "# base line tries counter\n",
    "tries = 1\n",
    "resamples = 1000\n",
    "\n",
    "# list to store the delta distributions\n",
    "b_distribution = []\n",
    "\n",
    "while tries < resamples:\n",
    "    \n",
    "    # taking a random sample from the outcomes\n",
    "    rand.shuffle(outcomes)\n",
    "    \n",
    "    # Using the same slicing format from earlier sanity checks\n",
    "    a_list = outcomes[:a_size]\n",
    "    b_list = outcomes[-b_size:]\n",
    "    \n",
    "    # Storing the conversions from each sample group\n",
    "    a_deposits = sum(a_list)/len(a_list)\n",
    "    b_deposits = sum(b_list)/len(b_list)\n",
    "\n",
    "    # calculating the delta between the test and control group\n",
    "    b_delta = round((b_deposits - a_deposits),2)\n",
    "    \n",
    "    # saving values\n",
    "    b_distribution.append(b_delta)\n",
    "    \n",
    "    # increment the loop\n",
    "    tries += 1"
   ]
  },
  {
   "cell_type": "markdown",
   "metadata": {},
   "source": [
    "### Intrepretting Results"
   ]
  },
  {
   "cell_type": "code",
   "execution_count": 297,
   "metadata": {},
   "outputs": [],
   "source": [
    "# Converting into series to plot\n",
    "b_hist = pd.Series(b_distribution)"
   ]
  },
  {
   "cell_type": "code",
   "execution_count": 318,
   "metadata": {},
   "outputs": [
    {
     "data": {
      "image/png": "[encoded data removed]",
      "text/plain": [
       "<Figure size 2160x1080 with 1 Axes>"
      ]
     },
     "metadata": {
      "needs_background": "light"
     },
     "output_type": "display_data"
    }
   ],
   "source": [
    "plt.figure(figsize=(30,15))\n",
    "plt.title('{} Resamples'.format(resamples), size = 40)\n",
    "plt.axvline(6.30, color='green', linestyle=':', lw = 5)\n",
    "plt.xlabel('Conversion Delta', size = 28)\n",
    "plt.ylabel('Frequency', size = 28)\n",
    "plt.xticks(fontsize = 24)\n",
    "plt.yticks(fontsize = 24)\n",
    "plt.text(6.80,25,'Original Delta: $6.30', horizontalalignment='left', fontsize = 25)\n",
    "sns.histplot(b_hist, bins = 100, color = 'lightcoral')\n",
    "plt.savefig('distribution.png', dpi=25)"
   ]
  },
  {
   "cell_type": "code",
   "execution_count": 322,
   "metadata": {},
   "outputs": [],
   "source": [
    "results = pd.DataFrame(b_hist.value_counts().sort_index(ascending = False)).reset_index() # $6.30"
   ]
  },
  {
   "cell_type": "code",
   "execution_count": 331,
   "metadata": {},
   "outputs": [
    {
     "data": {
      "text/html": [
       "<div>\n",
       "<style scoped>\n",
       "    .dataframe tbody tr th:only-of-type {\n",
       "        vertical-align: middle;\n",
       "    }\n",
       "\n",
       "    .dataframe tbody tr th {\n",
       "        vertical-align: top;\n",
       "    }\n",
       "\n",
       "    .dataframe thead th {\n",
       "        text-align: right;\n",
       "    }\n",
       "</style>\n",
       "<table border=\"1\" class=\"dataframe\">\n",
       "  <thead>\n",
       "    <tr style=\"text-align: right;\">\n",
       "      <th></th>\n",
       "      <th>index</th>\n",
       "      <th>0</th>\n",
       "    </tr>\n",
       "  </thead>\n",
       "  <tbody>\n",
       "    <tr>\n",
       "      <td>0</td>\n",
       "      <td>15.08</td>\n",
       "      <td>1</td>\n",
       "    </tr>\n",
       "    <tr>\n",
       "      <td>1</td>\n",
       "      <td>14.41</td>\n",
       "      <td>1</td>\n",
       "    </tr>\n",
       "    <tr>\n",
       "      <td>2</td>\n",
       "      <td>14.22</td>\n",
       "      <td>1</td>\n",
       "    </tr>\n",
       "    <tr>\n",
       "      <td>3</td>\n",
       "      <td>13.74</td>\n",
       "      <td>1</td>\n",
       "    </tr>\n",
       "    <tr>\n",
       "      <td>4</td>\n",
       "      <td>13.28</td>\n",
       "      <td>1</td>\n",
       "    </tr>\n",
       "  </tbody>\n",
       "</table>\n",
       "</div>"
      ],
      "text/plain": [
       "   index  0\n",
       "0  15.08  1\n",
       "1  14.41  1\n",
       "2  14.22  1\n",
       "3  13.74  1\n",
       "4  13.28  1"
      ]
     },
     "execution_count": 331,
     "metadata": {},
     "output_type": "execute_result"
    }
   ],
   "source": [
    "results.head()"
   ]
  },
  {
   "cell_type": "code",
   "execution_count": 330,
   "metadata": {},
   "outputs": [
    {
     "data": {
      "text/plain": [
       "121"
      ]
     },
     "execution_count": 330,
     "metadata": {},
     "output_type": "execute_result"
    }
   ],
   "source": [
    "results.iloc[:113,1].sum() # iloc 113 row = > $6.30"
   ]
  },
  {
   "cell_type": "code",
   "execution_count": null,
   "metadata": {},
   "outputs": [],
   "source": []
  }
 ],
 "metadata": {
  "kernelspec": {
   "display_name": "Python 3",
   "language": "python",
   "name": "python3"
  },
  "language_info": {
   "codemirror_mode": {
    "name": "ipython",
    "version": 3
   },
   "file_extension": ".py",
   "mimetype": "text/x-python",
   "name": "python",
   "nbconvert_exporter": "python",
   "pygments_lexer": "ipython3",
   "version": "3.7.4"
  }
 },
 "nbformat": 4,
 "nbformat_minor": 2
}
